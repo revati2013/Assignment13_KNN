{
  "cells": [
    {
      "cell_type": "markdown",
      "metadata": {
        "id": "view-in-github",
        "colab_type": "text"
      },
      "source": [
        "<a href=\"https://colab.research.google.com/github/revati2013/Assignment13_KNN/blob/main/Assign13(glass).ipynb\" target=\"_parent\"><img src=\"https://colab.research.google.com/assets/colab-badge.svg\" alt=\"Open In Colab\"/></a>"
      ]
    },
    {
      "cell_type": "code",
      "execution_count": null,
      "metadata": {
        "id": "_xXnoIHvxoPC"
      },
      "outputs": [],
      "source": [
        "import pandas as pd\n",
        "import numpy as np\n",
        "import matplotlib.pyplot as plt\n",
        "from sklearn.neighbors import KNeighborsClassifier\n",
        "from sklearn.model_selection import train_test_split\n",
        "from sklearn.preprocessing import StandardScaler\n",
        "import seaborn as sns\n",
        "from sklearn.metrics import classification_report, accuracy_score\n",
        "from sklearn.model_selection import cross_val_score"
      ]
    },
    {
      "cell_type": "code",
      "execution_count": null,
      "metadata": {
        "id": "QckiDSHhyG1m"
      },
      "outputs": [],
      "source": [
        "df = pd.read_csv('glass.csv')\n",
        "df.head()"
      ]
    },
    {
      "cell_type": "code",
      "execution_count": null,
      "metadata": {
        "id": "zhsjsWoqyic_"
      },
      "outputs": [],
      "source": [
        "# value count for glass types\n",
        "df.Type.value_counts()"
      ]
    },
    {
      "cell_type": "markdown",
      "metadata": {
        "id": "GrrWzDXzyxdk"
      },
      "source": [
        "#Data exploration and visualizaion"
      ]
    },
    {
      "cell_type": "markdown",
      "metadata": {
        "id": "pAlQdpgzy-50"
      },
      "source": [
        "Correlation Matrix"
      ]
    },
    {
      "cell_type": "code",
      "execution_count": null,
      "metadata": {
        "id": "D5XlMCU4ynv3"
      },
      "outputs": [],
      "source": [
        "cor = df.corr()\n",
        "sns.heatmap(cor)"
      ]
    },
    {
      "cell_type": "code",
      "execution_count": null,
      "metadata": {
        "id": "DZTVTDYhyurz"
      },
      "outputs": [],
      "source": [
        "#Scatter plot of two features, and pairwise plot\n",
        "sns.scatterplot(df['RI'],df['Na'],hue=df['Type'])"
      ]
    },
    {
      "cell_type": "code",
      "execution_count": null,
      "metadata": {
        "id": "-dTn2BEbzPyN"
      },
      "outputs": [],
      "source": [
        "#pairwise plot of all the features\n",
        "sns.pairplot(df,hue='Type')\n",
        "plt.show()"
      ]
    },
    {
      "cell_type": "code",
      "execution_count": null,
      "metadata": {
        "id": "Lp-_uLrtzk1F"
      },
      "outputs": [],
      "source": [
        "scaler = StandardScaler()\n",
        "\n",
        "scaler.fit(df.drop('Type',axis=1))\n",
        "StandardScaler(copy=True, with_mean=True, with_std=True)"
      ]
    },
    {
      "cell_type": "code",
      "execution_count": null,
      "metadata": {
        "id": "T4bJKFgp0AHe"
      },
      "outputs": [],
      "source": [
        "#perform transformation\n",
        "scaled_features = scaler.transform(df.drop('Type',axis=1))\n",
        "scaled_features"
      ]
    },
    {
      "cell_type": "code",
      "execution_count": null,
      "metadata": {
        "id": "-g9ER5b_0EjZ"
      },
      "outputs": [],
      "source": [
        "df_feat = pd.DataFrame(scaled_features,columns=df.columns[:-1])\n",
        "df_feat.head()"
      ]
    },
    {
      "cell_type": "code",
      "execution_count": null,
      "metadata": {
        "id": "vpPg9QIn0S6E"
      },
      "outputs": [],
      "source": [
        "dff = df_feat.drop(['Ca','K'],axis=1) #Removing features - Ca and K \n",
        "X_train,X_test,y_train,y_test  = train_test_split(dff,df['Type'],test_size=0.3,random_state=45) #setting random state ensures split is same eveytime, so that the results are comparable\n",
        "knn = KNeighborsClassifier(n_neighbors=4,metric='manhattan')\n",
        "knn.fit(X_train,y_train)\n",
        "KNeighborsClassifier(algorithm='auto', leaf_size=30, metric='manhattan',\n",
        "                     metric_params=None, n_jobs=None, n_neighbors=4, p=2,\n",
        "                     weights='uniform')\n",
        "y_pred = knn.predict(X_test)\n",
        "print(classification_report(y_test,y_pred))"
      ]
    },
    {
      "cell_type": "code",
      "execution_count": null,
      "metadata": {
        "id": "nseEmLRf0dJZ"
      },
      "outputs": [],
      "source": [
        "accuracy_score(y_test,y_pred)"
      ]
    },
    {
      "cell_type": "code",
      "execution_count": null,
      "metadata": {
        "colab": {
          "background_save": true
        },
        "id": "r1C-at5g0rGU"
      },
      "outputs": [],
      "source": [
        "k_range = range(1,25)\n",
        "k_scores = []\n",
        "error_rate =[]\n",
        "for k in k_range:\n",
        "    knn = KNeighborsClassifier(n_neighbors=k)\n",
        "    #kscores - accuracy\n",
        "    scores = cross_val_score(knn,dff,df['Type'],cv=5,scoring='accuracy')\n",
        "    k_scores.append(scores.mean())\n",
        "    \n",
        "    #error rate\n",
        "    knn.fit(X_train,y_train)\n",
        "    y_pred = knn.predict(X_test)\n",
        "    error_rate.append(np.mean(y_pred!=y_test))\n",
        "\n",
        "#plot k vs accuracy\n",
        "plt.plot(k_range,k_scores)\n",
        "plt.xlabel('value of k - knn algorithm')\n",
        "plt.ylabel('Cross validated accuracy score')\n",
        "plt.show()"
      ]
    }
  ],
  "metadata": {
    "colab": {
      "name": "Assign13(glass).ipynb",
      "provenance": [],
      "authorship_tag": "ABX9TyOLSnvw8QUxPkR/RoaSs7NH",
      "include_colab_link": true
    },
    "kernelspec": {
      "display_name": "Python 3",
      "name": "python3"
    },
    "language_info": {
      "name": "python"
    }
  },
  "nbformat": 4,
  "nbformat_minor": 0
}