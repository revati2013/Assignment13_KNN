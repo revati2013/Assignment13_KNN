{
  "cells": [
    {
      "cell_type": "markdown",
      "metadata": {
        "id": "view-in-github",
        "colab_type": "text"
      },
      "source": [
        "<a href=\"https://colab.research.google.com/github/revati2013/Assignment13_KNN/blob/main/Assign13(Zoo).ipynb\" target=\"_parent\"><img src=\"https://colab.research.google.com/assets/colab-badge.svg\" alt=\"Open In Colab\"/></a>"
      ]
    },
    {
      "cell_type": "code",
      "execution_count": null,
      "metadata": {
        "id": "rHuy-1DsPADh"
      },
      "outputs": [],
      "source": [
        "#import libraries\n",
        "# KNN Classification\n",
        "import pandas as pd\n",
        "import numpy as np\n",
        "from sklearn.model_selection import KFold\n",
        "from sklearn.model_selection import cross_val_score\n",
        "from sklearn.neighbors import KNeighborsClassifier\n",
        "import warnings \n",
        "warnings.filterwarnings(\"ignore\")"
      ]
    },
    {
      "cell_type": "code",
      "execution_count": null,
      "metadata": {
        "id": "8Ztq8eNkTBwA"
      },
      "outputs": [],
      "source": [
        "animal=pd.read_csv('Zoo.csv')"
      ]
    },
    {
      "cell_type": "code",
      "execution_count": null,
      "metadata": {
        "id": "9xHGjPAfTjqy"
      },
      "outputs": [],
      "source": [
        "animal"
      ]
    },
    {
      "cell_type": "markdown",
      "source": [
        "#EDA"
      ],
      "metadata": {
        "id": "IOQHl4Bo7ISh"
      }
    },
    {
      "cell_type": "code",
      "execution_count": null,
      "metadata": {
        "id": "posHAAZQVRIF"
      },
      "outputs": [],
      "source": [
        "animal.info()"
      ]
    },
    {
      "cell_type": "code",
      "execution_count": null,
      "metadata": {
        "id": "4V7AA9WFWt_5"
      },
      "outputs": [],
      "source": [
        "# Evaluate the missing values and duplicates\n",
        "animal.isnull().sum()"
      ]
    },
    {
      "cell_type": "code",
      "source": [
        "animal.rename(columns={'animal name' : 'Animal_name'}, inplace = True)\n",
        "animal"
      ],
      "metadata": {
        "id": "V73E1zvbzX3e"
      },
      "execution_count": null,
      "outputs": []
    },
    {
      "cell_type": "code",
      "source": [
        "#check if there are duplicates in animal_name\n",
        "duplicates = animal.Animal_name.value_counts()\n",
        "duplicates[duplicates > 1]"
      ],
      "metadata": {
        "id": "UMXZecI50xyR"
      },
      "execution_count": null,
      "outputs": []
    },
    {
      "cell_type": "code",
      "source": [
        "#select these duplicates frog\n",
        "frog = animal.loc[animal['Animal_name'] == 'frog']\n",
        "frog"
      ],
      "metadata": {
        "id": "IXDNRctB1kIg"
      },
      "execution_count": null,
      "outputs": []
    },
    {
      "cell_type": "code",
      "source": [
        "# observation: find that one frog is venomous and another one is not \n",
        "#              change the venomous one into frog2 to seperate 2 kinds of frog \n",
        "animal['Animal_name'][(animal.venomous == 1 )& (animal.Animal_name == 'frog')] = \"frog2\""
      ],
      "metadata": {
        "id": "N69iIRCO1sBG"
      },
      "execution_count": null,
      "outputs": []
    },
    {
      "cell_type": "code",
      "source": [
        "# finding Unique value of hair\n",
        "color_list = [(\"red\" if i == 1 else \"blue\" if i == 0 else \"yellow\" ) for i in animal.hair]\n",
        "unique_color = list(set(color_list))\n",
        "unique_color"
      ],
      "metadata": {
        "id": "V04GxIBt14kq"
      },
      "execution_count": null,
      "outputs": []
    },
    {
      "cell_type": "markdown",
      "source": [
        "#Data Visualization"
      ],
      "metadata": {
        "id": "UAvpYNLz7Lw9"
      }
    },
    {
      "cell_type": "code",
      "source": [
        "import matplotlib.pyplot as plt\n",
        "\n",
        "# scatter matrix to observe relationship between every colomn attribute. \n",
        "pd.plotting.scatter_matrix(animal.iloc[:,:7],\n",
        "                                       c=color_list,\n",
        "                                       figsize= [20,20],\n",
        "                                       diagonal='hist',\n",
        "                                       alpha=1,\n",
        "                                       s = 300,\n",
        "                                       marker = '.',\n",
        "                                       edgecolor= \"black\")\n",
        "plt.show()"
      ],
      "metadata": {
        "id": "JaLqOtZj19Gt"
      },
      "execution_count": null,
      "outputs": []
    },
    {
      "cell_type": "code",
      "source": [
        "import seaborn as sns\n",
        "sns.countplot(x=\"hair\", data=animal)\n",
        "plt.xlabel(\"Hair\")\n",
        "plt.ylabel(\"Count\")\n",
        "plt.show()\n",
        "animal.loc[:,'hair'].value_counts()"
      ],
      "metadata": {
        "id": "pUu_t8Uk2oFt"
      },
      "execution_count": null,
      "outputs": []
    },
    {
      "cell_type": "markdown",
      "source": [
        "#Spliting Data"
      ],
      "metadata": {
        "id": "I5e3X76b7P9-"
      }
    },
    {
      "cell_type": "code",
      "source": [
        "# split train test data into 70/30.\n",
        "from sklearn.model_selection import train_test_split\n",
        "X = animal.iloc[:,1:17]\n",
        "y = animal.iloc[:,17]\n",
        "X_train, X_test, y_train, y_test = train_test_split(X, y, test_size=0.3, random_state=1, stratify=y)"
      ],
      "metadata": {
        "id": "Y1SoQ29_4Z54"
      },
      "execution_count": null,
      "outputs": []
    },
    {
      "cell_type": "markdown",
      "source": [
        "#Building Model"
      ],
      "metadata": {
        "id": "WCx02mkU7TNk"
      }
    },
    {
      "cell_type": "code",
      "source": [
        "from sklearn.neighbors import KNeighborsClassifier\n",
        "from sklearn.metrics import accuracy_score\n",
        "# Declare the model\n",
        "clf = KNeighborsClassifier(n_neighbors=3)\n",
        "\n",
        "# Train the model\n",
        "clf.fit(X_train, y_train)\n",
        "y_pred_KNeighborsClassifier = clf.predict(X_test)\n",
        "\n",
        "scrs = []\n",
        "\n",
        "#Get Accuracy Score\n",
        "score = accuracy_score(y_pred_KNeighborsClassifier,y_test)\n",
        "scrs.append(score)"
      ],
      "metadata": {
        "id": "JucPFXjl3b_5"
      },
      "execution_count": null,
      "outputs": []
    },
    {
      "cell_type": "code",
      "execution_count": null,
      "metadata": {
        "id": "ED9DG_I7VM90"
      },
      "outputs": [],
      "source": [
        "#use cross validation score since this is a small size dataset \n",
        "#Get cross validation score of K-Nearest Neighbors\n",
        "\n",
        "from sklearn.model_selection import cross_val_score\n",
        "\n",
        "\n",
        "cv_scores = [] # store cross vadidation score of all the algorithms.\n",
        "\n",
        "score_knn=cross_val_score(clf, X,y, cv=10)\n",
        "\n",
        "print(\"K-Nearest Neighbors Accuracy: %0.2f (+/- %0.2f) with k value equals to 3\" % (score_knn.mean(), score_knn.std() * 2))"
      ]
    },
    {
      "cell_type": "code",
      "source": [
        "\n",
        "k_values = np.arange(1,20)\n",
        "train_accuracy = []\n",
        "test_accuracy = []\n",
        "\n",
        "for i, k in enumerate(k_values):\n",
        "    # k from 1 to 20(exclude)\n",
        "    knn = KNeighborsClassifier(n_neighbors=k)\n",
        "    # Fit with knn\n",
        "    knn.fit(X_train,y_train)\n",
        "    #train accuracy\n",
        "    train_accuracy.append(knn.score(X_train, y_train))\n",
        "    # test accuracy\n",
        "    test_accuracy.append(knn.score(X_test, y_test))\n",
        "\n",
        "\n",
        "plt.figure(figsize=[11,8])\n",
        "plt.plot(k_values, test_accuracy, label = 'Testing Accuracy')\n",
        "plt.plot(k_values, train_accuracy, label = 'Training Accuracy')\n",
        "plt.legend()\n",
        "plt.title('K-Values VS Accuracy graph representation')\n",
        "plt.xlabel('Number of Neighbors')\n",
        "plt.ylabel('Accuracy')\n",
        "plt.xticks(k_values)\n",
        "\n",
        "plt.show()\n",
        "print(\"Best accuracy is {} with K = {}\".format(np.max(test_accuracy),1+test_accuracy.index(np.max(test_accuracy))))\n",
        "\n",
        "cv_scores.append(np.max(test_accuracy))"
      ],
      "metadata": {
        "id": "5Al0UNZg4rl-"
      },
      "execution_count": null,
      "outputs": []
    },
    {
      "cell_type": "code",
      "source": [
        ""
      ],
      "metadata": {
        "id": "tugxQZn25Ds0"
      },
      "execution_count": null,
      "outputs": []
    }
  ],
  "metadata": {
    "colab": {
      "name": "Assign13(Zoo).ipynb",
      "provenance": [],
      "collapsed_sections": [],
      "authorship_tag": "ABX9TyP7HGtTRXsd9O5+jwP+f2GI",
      "include_colab_link": true
    },
    "kernelspec": {
      "display_name": "Python 3",
      "name": "python3"
    },
    "language_info": {
      "name": "python"
    }
  },
  "nbformat": 4,
  "nbformat_minor": 0
}